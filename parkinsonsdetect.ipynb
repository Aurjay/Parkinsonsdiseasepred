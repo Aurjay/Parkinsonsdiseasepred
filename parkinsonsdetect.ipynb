{
  "nbformat": 4,
  "nbformat_minor": 0,
  "metadata": {
    "colab": {
      "name": "parkinsonsdetect.ipynb",
      "provenance": [],
      "collapsed_sections": []
    },
    "kernelspec": {
      "name": "python3",
      "display_name": "Python 3"
    },
    "accelerator": "GPU"
  },
  "cells": [
    {
      "cell_type": "code",
      "metadata": {
        "colab": {
          "base_uri": "https://localhost:8080/"
        },
        "id": "ABVfneTf4m4c",
        "outputId": "b77711b8-934f-44fd-d032-92dbb11f2883"
      },
      "source": [
        "# Parkinsons data is available on https://archive.ics.uci.edu/ml/machine-learning-databases/parkinsons/\r\n",
        "#Please use tableau to understand the data better.\r\n",
        "#importing the necessary packages\r\n",
        "import numpy as np\r\n",
        "import pandas as pd\r\n",
        "import os, sys\r\n",
        "from sklearn.preprocessing import MinMaxScaler\r\n",
        "from xgboost import XGBClassifier\r\n",
        "from sklearn.model_selection import train_test_split\r\n",
        "from sklearn.metrics import accuracy_score\r\n",
        "# Reading the csv_file to dataframe\r\n",
        "dataframe=pd.read_csv('/content/parkinsons.data')\r\n",
        "dataframe.head()\r\n",
        "#Assigning features and labels from dataframe\r\n",
        "features=dataframe.loc[:,df.columns!='status'].values[:,1:]\r\n",
        "labels=dataframe.loc[:,'status'].values\r\n",
        "#Printing Number of True and False labels\r\n",
        "print(\"Number of True labels : \",labels[labels==1].shape[0])\r\n",
        "print(\"Number of False labels : \", labels[labels==0].shape[0])\r\n",
        "#Scaling the features between -1 and +1 we use MinMax Scaler and fit_transform function \r\n",
        "# to fit and transform the features but not the labels as it is not necessary \r\n",
        "scaler=MinMaxScaler((-1,1))\r\n",
        "x=scaler.fit_transform(features)\r\n",
        "y=labels\r\n",
        "#Assigning variables and splitting the data into train and test data respectively\r\n",
        "x_train,x_test,y_train,y_test=train_test_split(x, y, test_size=0.2, random_state=7)\r\n",
        "#XGB classifier is initialized here for extreme gradient boosting in order to give one highly probable output.\r\n",
        "model=XGBClassifier()\r\n",
        "model.fit(x_train,y_train)"
      ],
      "execution_count": 20,
      "outputs": [
        {
          "output_type": "stream",
          "text": [
            "Number of True labels :  147\n",
            "Number of False labels :  48\n"
          ],
          "name": "stdout"
        },
        {
          "output_type": "execute_result",
          "data": {
            "text/plain": [
              "XGBClassifier(base_score=0.5, booster='gbtree', colsample_bylevel=1,\n",
              "              colsample_bynode=1, colsample_bytree=1, gamma=0,\n",
              "              learning_rate=0.1, max_delta_step=0, max_depth=3,\n",
              "              min_child_weight=1, missing=None, n_estimators=100, n_jobs=1,\n",
              "              nthread=None, objective='binary:logistic', random_state=0,\n",
              "              reg_alpha=0, reg_lambda=1, scale_pos_weight=1, seed=None,\n",
              "              silent=None, subsample=1, verbosity=1)"
            ]
          },
          "metadata": {
            "tags": []
          },
          "execution_count": 20
        }
      ]
    },
    {
      "cell_type": "code",
      "metadata": {
        "colab": {
          "base_uri": "https://localhost:8080/"
        },
        "id": "xUwhnsTJ_ZMu",
        "outputId": "1eedf8a7-4381-48d8-adeb-4808ca963e68"
      },
      "source": [
        "#Generating the y_prediction model and calculating accuracy in test data.\r\n",
        "y_prediction=model.predict(x_test)\r\n",
        "print(accuracy_score(y_test, y_prediction)*100)"
      ],
      "execution_count": 21,
      "outputs": [
        {
          "output_type": "stream",
          "text": [
            "94.87179487179486\n"
          ],
          "name": "stdout"
        }
      ]
    },
    {
      "cell_type": "code",
      "metadata": {
        "id": "zxOtXz3AFIzq"
      },
      "source": [
        ""
      ],
      "execution_count": null,
      "outputs": []
    }
  ]
}